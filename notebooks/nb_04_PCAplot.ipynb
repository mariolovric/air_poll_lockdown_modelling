{
 "cells": [
  {
   "cell_type": "code",
   "execution_count": 1,
   "metadata": {},
   "outputs": [],
   "source": [
    "import pandas as pd\n",
    "import matplotlib.pyplot as plt\n",
    "%matplotlib inline\n",
    "from sklearn.decomposition import PCA\n",
    "from sklearn.preprocessing import MinMaxScaler, StandardScaler\n",
    "import pandas as pd\n",
    "import numpy as np"
   ]
  },
  {
   "cell_type": "code",
   "execution_count": 2,
   "metadata": {},
   "outputs": [],
   "source": [
    "def minmax(X):\n",
    "    if type(X)==pd.DataFrame:\n",
    "        array_s=MinMaxScaler().fit_transform(X)\n",
    "        Xs=pd.DataFrame(array_s, index=X.index, columns=X.columns)\n",
    "        return Xs\n",
    "    elif type(X)==pd.Series:\n",
    "        array_s = MinMaxScaler().fit_transform(np.array(X).reshape(-1, 1))\n",
    "        Xs = pd.Series(np.squeeze(array_s), index=X.index, name=X.name)\n",
    "        return Xs\n",
    "    else:\n",
    "        print('error')\n",
    "        \n",
    "c_pca={'PC1': '#911eb4',\n",
    " 'PC2': '#4363d8',\n",
    " 'PC3': '#e6194B',\n",
    " 'PC4': '#3cb44b'}"
   ]
  },
  {
   "cell_type": "code",
   "execution_count": 3,
   "metadata": {},
   "outputs": [],
   "source": [
    "graz_all = pd.read_csv('../data/graz_all_p3.csv', index_col = 0)"
   ]
  },
  {
   "cell_type": "code",
   "execution_count": 4,
   "metadata": {},
   "outputs": [],
   "source": [
    "graz_all.index = pd.DatetimeIndex(graz_all.index)\n",
    "dymo = graz_all.index.to_series().apply(lambda x: x.strftime('%m-%d'))"
   ]
  },
  {
   "cell_type": "code",
   "execution_count": 5,
   "metadata": {},
   "outputs": [],
   "source": [
    "temporal = ['dayofyear', 'year', 'weekdays_Friday', 'weekdays_Monday',\n",
    "       'weekdays_Saturday', 'weekdays_Sunday', 'weekdays_Thursday',\n",
    "       'weekdays_Tuesday', 'weekdays_Wednesday', 'months_Apr', 'months_Aug',\n",
    "       'months_Dec', 'months_Feb', 'months_Jan', 'months_Jul', 'months_Jun',\n",
    "       'months_Mar', 'months_May', 'months_Nov', 'months_Oct', 'months_Sep',\n",
    "       'season_fall', 'season_spring', 'season_summer', 'season_winter']\n",
    "gases = ['D_NO', 'D_NO2', 'D_PM10', 'N_NO', 'N_NO2', 'N_Ox', 'N_O3', 'N_PM10',\n",
    "         'O_NO', 'O_NO2', 'O_PM10', 'S_NO', 'S_NO2', 'S_Ox', 'S_O3', 'S_PM10',\n",
    "          'W_NO', 'W_NO2', 'W_PM10']\n",
    "other = (set(graz_all.columns).symmetric_difference(set(temporal))).symmetric_difference(gases)"
   ]
  },
  {
   "cell_type": "markdown",
   "metadata": {},
   "source": [
    "## PCA"
   ]
  },
  {
   "cell_type": "code",
   "execution_count": 6,
   "metadata": {},
   "outputs": [
    {
     "data": {
      "text/plain": [
       "Index(['O_NO', 'O_NO2', 'O_PM10', 'D_RH', 'D_Temperature', 'D_NO', 'D_NO2',\n",
       "       'D_PM10', 'N_Pressure_[mbar]', 'N_RH', 'N_Temperature',\n",
       "       'N_Percipitation', 'N_NO', 'N_NO2', 'N_PM10', 'N_WindSpeed', 'N_WinDir',\n",
       "       'N_O3', 'W_RH', 'W_Temperature', 'W_NO', 'W_NO2', 'W_PM10',\n",
       "       'W_WindSpeed', 'W_WinDir', 'S_RH', 'S_Temperature', 'S_NO', 'S_NO2',\n",
       "       'S_PM10', 'S_WindSpeed', 'S_WinDir', 'S_O3', 'dayofyear', 'year',\n",
       "       'weekdays_Friday', 'weekdays_Monday', 'weekdays_Saturday',\n",
       "       'weekdays_Sunday', 'weekdays_Thursday', 'weekdays_Tuesday',\n",
       "       'weekdays_Wednesday', 'months_Apr', 'months_Aug', 'months_Dec',\n",
       "       'months_Feb', 'months_Jan', 'months_Jul', 'months_Jun', 'months_Mar',\n",
       "       'months_May', 'months_Nov', 'months_Oct', 'months_Sep', 'season_fall',\n",
       "       'season_spring', 'season_summer', 'season_winter', 'S_Ox', 'N_Ox'],\n",
       "      dtype='object')"
      ]
     },
     "execution_count": 6,
     "metadata": {},
     "output_type": "execute_result"
    }
   ],
   "source": [
    "graz_all.columns"
   ]
  },
  {
   "cell_type": "code",
   "execution_count": 7,
   "metadata": {},
   "outputs": [
    {
     "data": {
      "text/html": [
       "<div>\n",
       "<style scoped>\n",
       "    .dataframe tbody tr th:only-of-type {\n",
       "        vertical-align: middle;\n",
       "    }\n",
       "\n",
       "    .dataframe tbody tr th {\n",
       "        vertical-align: top;\n",
       "    }\n",
       "\n",
       "    .dataframe thead th {\n",
       "        text-align: right;\n",
       "    }\n",
       "</style>\n",
       "<table border=\"1\" class=\"dataframe\">\n",
       "  <thead>\n",
       "    <tr style=\"text-align: right;\">\n",
       "      <th></th>\n",
       "      <th>D_NO</th>\n",
       "      <th>D_NO2</th>\n",
       "      <th>D_PM10</th>\n",
       "      <th>N_NO</th>\n",
       "      <th>N_NO2</th>\n",
       "      <th>N_Ox</th>\n",
       "      <th>N_O3</th>\n",
       "      <th>N_PM10</th>\n",
       "      <th>O_NO</th>\n",
       "      <th>O_NO2</th>\n",
       "      <th>O_PM10</th>\n",
       "      <th>S_NO</th>\n",
       "      <th>S_NO2</th>\n",
       "      <th>S_Ox</th>\n",
       "      <th>S_O3</th>\n",
       "      <th>S_PM10</th>\n",
       "      <th>W_NO</th>\n",
       "      <th>W_NO2</th>\n",
       "      <th>W_PM10</th>\n",
       "    </tr>\n",
       "    <tr>\n",
       "      <th>Datum</th>\n",
       "      <th></th>\n",
       "      <th></th>\n",
       "      <th></th>\n",
       "      <th></th>\n",
       "      <th></th>\n",
       "      <th></th>\n",
       "      <th></th>\n",
       "      <th></th>\n",
       "      <th></th>\n",
       "      <th></th>\n",
       "      <th></th>\n",
       "      <th></th>\n",
       "      <th></th>\n",
       "      <th></th>\n",
       "      <th></th>\n",
       "      <th></th>\n",
       "      <th></th>\n",
       "      <th></th>\n",
       "      <th></th>\n",
       "    </tr>\n",
       "  </thead>\n",
       "  <tbody>\n",
       "    <tr>\n",
       "      <th>2014-01-03</th>\n",
       "      <td>85.29172</td>\n",
       "      <td>48.582783</td>\n",
       "      <td>36.406948</td>\n",
       "      <td>12.906034</td>\n",
       "      <td>28.676586</td>\n",
       "      <td>35.242838</td>\n",
       "      <td>6.566252</td>\n",
       "      <td>22.173819</td>\n",
       "      <td>27.044508</td>\n",
       "      <td>33.078587</td>\n",
       "      <td>33.240788</td>\n",
       "      <td>55.06017</td>\n",
       "      <td>38.592980</td>\n",
       "      <td>43.870122</td>\n",
       "      <td>5.277142</td>\n",
       "      <td>40.209545</td>\n",
       "      <td>28.499367</td>\n",
       "      <td>31.314337</td>\n",
       "      <td>23.542700</td>\n",
       "    </tr>\n",
       "    <tr>\n",
       "      <th>2014-01-04</th>\n",
       "      <td>182.96892</td>\n",
       "      <td>64.971920</td>\n",
       "      <td>47.563680</td>\n",
       "      <td>35.579450</td>\n",
       "      <td>42.875824</td>\n",
       "      <td>48.398917</td>\n",
       "      <td>5.523093</td>\n",
       "      <td>21.210737</td>\n",
       "      <td>76.734890</td>\n",
       "      <td>45.691574</td>\n",
       "      <td>35.136900</td>\n",
       "      <td>112.49666</td>\n",
       "      <td>45.415955</td>\n",
       "      <td>48.349478</td>\n",
       "      <td>2.933523</td>\n",
       "      <td>52.475697</td>\n",
       "      <td>72.747480</td>\n",
       "      <td>41.682540</td>\n",
       "      <td>31.892168</td>\n",
       "    </tr>\n",
       "  </tbody>\n",
       "</table>\n",
       "</div>"
      ],
      "text/plain": [
       "                 D_NO      D_NO2     D_PM10       N_NO      N_NO2       N_Ox  \\\n",
       "Datum                                                                          \n",
       "2014-01-03   85.29172  48.582783  36.406948  12.906034  28.676586  35.242838   \n",
       "2014-01-04  182.96892  64.971920  47.563680  35.579450  42.875824  48.398917   \n",
       "\n",
       "                N_O3     N_PM10       O_NO      O_NO2     O_PM10       S_NO  \\\n",
       "Datum                                                                         \n",
       "2014-01-03  6.566252  22.173819  27.044508  33.078587  33.240788   55.06017   \n",
       "2014-01-04  5.523093  21.210737  76.734890  45.691574  35.136900  112.49666   \n",
       "\n",
       "                S_NO2       S_Ox      S_O3     S_PM10       W_NO      W_NO2  \\\n",
       "Datum                                                                         \n",
       "2014-01-03  38.592980  43.870122  5.277142  40.209545  28.499367  31.314337   \n",
       "2014-01-04  45.415955  48.349478  2.933523  52.475697  72.747480  41.682540   \n",
       "\n",
       "               W_PM10  \n",
       "Datum                  \n",
       "2014-01-03  23.542700  \n",
       "2014-01-04  31.892168  "
      ]
     },
     "execution_count": 7,
     "metadata": {},
     "output_type": "execute_result"
    }
   ],
   "source": [
    "pca_t=graz_all[gases].dropna(how='any').select_dtypes(include=float)\n",
    "pca_t.head(2)"
   ]
  },
  {
   "cell_type": "markdown",
   "metadata": {},
   "source": [
    "### drop NO"
   ]
  },
  {
   "cell_type": "code",
   "execution_count": 11,
   "metadata": {},
   "outputs": [
    {
     "data": {
      "text/html": [
       "<div>\n",
       "<style scoped>\n",
       "    .dataframe tbody tr th:only-of-type {\n",
       "        vertical-align: middle;\n",
       "    }\n",
       "\n",
       "    .dataframe tbody tr th {\n",
       "        vertical-align: top;\n",
       "    }\n",
       "\n",
       "    .dataframe thead th {\n",
       "        text-align: right;\n",
       "    }\n",
       "</style>\n",
       "<table border=\"1\" class=\"dataframe\">\n",
       "  <thead>\n",
       "    <tr style=\"text-align: right;\">\n",
       "      <th></th>\n",
       "      <th>D_NO2</th>\n",
       "      <th>D_PM10</th>\n",
       "      <th>N_NO2</th>\n",
       "      <th>N_Ox</th>\n",
       "      <th>N_O3</th>\n",
       "      <th>N_PM10</th>\n",
       "      <th>O_NO2</th>\n",
       "      <th>O_PM10</th>\n",
       "      <th>S_NO2</th>\n",
       "      <th>S_Ox</th>\n",
       "      <th>S_O3</th>\n",
       "      <th>S_PM10</th>\n",
       "      <th>W_NO2</th>\n",
       "      <th>W_PM10</th>\n",
       "    </tr>\n",
       "    <tr>\n",
       "      <th>Datum</th>\n",
       "      <th></th>\n",
       "      <th></th>\n",
       "      <th></th>\n",
       "      <th></th>\n",
       "      <th></th>\n",
       "      <th></th>\n",
       "      <th></th>\n",
       "      <th></th>\n",
       "      <th></th>\n",
       "      <th></th>\n",
       "      <th></th>\n",
       "      <th></th>\n",
       "      <th></th>\n",
       "      <th></th>\n",
       "    </tr>\n",
       "  </thead>\n",
       "  <tbody>\n",
       "    <tr>\n",
       "      <th>2014-01-03</th>\n",
       "      <td>48.582783</td>\n",
       "      <td>36.406948</td>\n",
       "      <td>28.676586</td>\n",
       "      <td>35.242838</td>\n",
       "      <td>6.566252</td>\n",
       "      <td>22.173819</td>\n",
       "      <td>33.078587</td>\n",
       "      <td>33.240788</td>\n",
       "      <td>38.592980</td>\n",
       "      <td>43.870122</td>\n",
       "      <td>5.277142</td>\n",
       "      <td>40.209545</td>\n",
       "      <td>31.314337</td>\n",
       "      <td>23.542700</td>\n",
       "    </tr>\n",
       "    <tr>\n",
       "      <th>2014-01-04</th>\n",
       "      <td>64.971920</td>\n",
       "      <td>47.563680</td>\n",
       "      <td>42.875824</td>\n",
       "      <td>48.398917</td>\n",
       "      <td>5.523093</td>\n",
       "      <td>21.210737</td>\n",
       "      <td>45.691574</td>\n",
       "      <td>35.136900</td>\n",
       "      <td>45.415955</td>\n",
       "      <td>48.349478</td>\n",
       "      <td>2.933523</td>\n",
       "      <td>52.475697</td>\n",
       "      <td>41.682540</td>\n",
       "      <td>31.892168</td>\n",
       "    </tr>\n",
       "  </tbody>\n",
       "</table>\n",
       "</div>"
      ],
      "text/plain": [
       "                D_NO2     D_PM10      N_NO2       N_Ox      N_O3     N_PM10  \\\n",
       "Datum                                                                         \n",
       "2014-01-03  48.582783  36.406948  28.676586  35.242838  6.566252  22.173819   \n",
       "2014-01-04  64.971920  47.563680  42.875824  48.398917  5.523093  21.210737   \n",
       "\n",
       "                O_NO2     O_PM10      S_NO2       S_Ox      S_O3     S_PM10  \\\n",
       "Datum                                                                         \n",
       "2014-01-03  33.078587  33.240788  38.592980  43.870122  5.277142  40.209545   \n",
       "2014-01-04  45.691574  35.136900  45.415955  48.349478  2.933523  52.475697   \n",
       "\n",
       "                W_NO2     W_PM10  \n",
       "Datum                             \n",
       "2014-01-03  31.314337  23.542700  \n",
       "2014-01-04  41.682540  31.892168  "
      ]
     },
     "execution_count": 11,
     "metadata": {},
     "output_type": "execute_result"
    }
   ],
   "source": [
    "pca_t.drop(['D_NO', 'N_NO', 'O_NO', 'S_NO', 'W_NO'], axis=1, inplace=True)\n",
    "pca_t.head(2)"
   ]
  },
  {
   "cell_type": "code",
   "execution_count": 12,
   "metadata": {},
   "outputs": [],
   "source": [
    "t_scaled=minmax(pca_t)\n",
    "pcaF_ = PCA(n_components=2).fit(t_scaled) #10 at first\n",
    "pcaF_comp=pd.DataFrame(pcaF_.components_.T, index=pca_t.columns, columns=['PC1','PC2'])\n",
    "pcaF_comp.index = pcaF_comp.index.str.replace('_','|') "
   ]
  },
  {
   "cell_type": "code",
   "execution_count": 13,
   "metadata": {},
   "outputs": [
    {
     "data": {
      "image/png": "[encoded data removed]",
      "text/plain": [
       "<Figure size 576x360 with 1 Axes>"
      ]
     },
     "metadata": {
      "needs_background": "light"
     },
     "output_type": "display_data"
    }
   ],
   "source": [
    "fig, ax = plt.subplots(figsize=(8,5))\n",
    "for i,j in enumerate(pcaF_comp.index):\n",
    "    ax.scatter(pcaF_comp.PC1[i], pcaF_comp.PC2[i], marker = '^', s=10)\n",
    "    ax.text(s=j, x=pcaF_comp.PC1[i], y=pcaF_comp.PC2[i]+.02, fontsize=7)\n",
    "ax.spines['top'].set_visible(False)\n",
    "ax.spines['right'].set_visible(False)"
   ]
  },
  {
   "cell_type": "code",
   "execution_count": 14,
   "metadata": {},
   "outputs": [
    {
     "data": {
      "text/plain": [
       "Text(0, 0.5, 'PC2')"
      ]
     },
     "execution_count": 14,
     "metadata": {},
     "output_type": "execute_result"
    },
    {
     "data": {
      "image/png": "[encoded data removed]",
      "text/plain": [
       "<Figure size 576x360 with 1 Axes>"
      ]
     },
     "metadata": {
      "needs_background": "light"
     },
     "output_type": "display_data"
    }
   ],
   "source": [
    "fig, ax = plt.subplots(figsize=(8,5))\n",
    "for i,j in enumerate(pcaF_comp.index):\n",
    "    ax.scatter(pcaF_comp.PC1[i], pcaF_comp.PC2[i], marker = 'x', s=50)\n",
    "    #ax.text(s=j[:-7], x=pcaF_comp.PC1[i], y=pcaF_comp.PC2[i]+.02, fontsize=10)\n",
    "    plt.setp(ax.spines.values(), linewidth=2)\n",
    "    ax.xaxis.set_tick_params(width=3)\n",
    "    ax.yaxis.set_tick_params(width=3)\n",
    "    ax.tick_params(labelsize=20)\n",
    "ax.spines['top'].set_visible(False)\n",
    "ax.spines['right'].set_visible(False)\n",
    "ax.set_xlabel('PC1', size=20)\n",
    "ax.set_ylabel('PC2', size=20)"
   ]
  },
  {
   "cell_type": "markdown",
   "metadata": {},
   "source": [
    "## save as tiff"
   ]
  },
  {
   "cell_type": "code",
   "execution_count": 15,
   "metadata": {},
   "outputs": [],
   "source": [
    "from PIL import Image\n",
    "from io import BytesIO"
   ]
  },
  {
   "cell_type": "code",
   "execution_count": 16,
   "metadata": {},
   "outputs": [
    {
     "data": {
      "image/png": "[encoded data removed]",
      "text/plain": [
       "<Figure size 576x360 with 1 Axes>"
      ]
     },
     "metadata": {
      "needs_background": "light"
     },
     "output_type": "display_data"
    }
   ],
   "source": [
    "fig, ax = plt.subplots(figsize=(8,5))\n",
    "for i,j in enumerate(pcaF_comp.index):\n",
    "    ax.scatter(pcaF_comp.PC1[i], pcaF_comp.PC2[i], marker = 'x', s=50)\n",
    "    #ax.text(s=j[:-7], x=pcaF_comp.PC1[i], y=pcaF_comp.PC2[i]+.02, fontsize=10)\n",
    "    plt.setp(ax.spines.values(), linewidth=2)\n",
    "    ax.xaxis.set_tick_params(width=3)\n",
    "    ax.yaxis.set_tick_params(width=3)\n",
    "    ax.tick_params(labelsize=20)\n",
    "ax.spines['top'].set_visible(False)\n",
    "ax.spines['right'].set_visible(False)\n",
    "ax.set_xlabel('PC1', size=20)\n",
    "ax.set_ylabel('PC2', size=20)\n",
    "\n",
    "png1 = BytesIO()\n",
    "fig.savefig(png1, format='png')\n",
    "\n",
    "png2 = Image.open(png1)\n",
    "\n",
    "png2.save('3dPlot.tiff')\n",
    "png1.close()"
   ]
  },
  {
   "cell_type": "markdown",
   "metadata": {},
   "source": [
    "## see labels"
   ]
  },
  {
   "cell_type": "code",
   "execution_count": 17,
   "metadata": {},
   "outputs": [
    {
     "data": {
      "text/plain": [
       "Index(['D|NO2', 'D|PM10', 'N|NO2', 'N|Ox', 'N|O3', 'N|PM10', 'O|NO2', 'O|PM10',\n",
       "       'S|NO2', 'S|Ox', 'S|O3', 'S|PM10', 'W|NO2', 'W|PM10'],\n",
       "      dtype='object')"
      ]
     },
     "execution_count": 17,
     "metadata": {},
     "output_type": "execute_result"
    }
   ],
   "source": [
    "pcaF_comp.index"
   ]
  },
  {
   "cell_type": "code",
   "execution_count": 18,
   "metadata": {
    "scrolled": true
   },
   "outputs": [
    {
     "data": {
      "text/plain": [
       "Text(0, 0.5, 'PC2')"
      ]
     },
     "execution_count": 18,
     "metadata": {},
     "output_type": "execute_result"
    },
    {
     "data": {
      "image/png": "[encoded data removed]",
      "text/plain": [
       "<Figure size 2160x1440 with 1 Axes>"
      ]
     },
     "metadata": {
      "needs_background": "light"
     },
     "output_type": "display_data"
    }
   ],
   "source": [
    "fig, ax = plt.subplots(figsize=(30,20))\n",
    "for i,j in enumerate(pcaF_comp.index):\n",
    "    ax.scatter(pcaF_comp.PC1[i], pcaF_comp.PC2[i], marker = '^', s=10)\n",
    "    ax.text(s=j, x=pcaF_comp.PC1[i], y=pcaF_comp.PC2[i]+.02, fontsize=10)\n",
    "    plt.setp(ax.spines.values(), linewidth=2)\n",
    "    ax.xaxis.set_tick_params(width=3)\n",
    "    ax.yaxis.set_tick_params(width=3)\n",
    "    ax.tick_params(labelsize=12)\n",
    "ax.spines['top'].set_visible(False)\n",
    "ax.spines['right'].set_visible(False)\n",
    "ax.set_xlabel('PC1', size=14)\n",
    "ax.set_ylabel('PC2', size=14)"
   ]
  },
  {
   "cell_type": "code",
   "execution_count": null,
   "metadata": {},
   "outputs": [],
   "source": []
  }
 ],
 "metadata": {
  "kernelspec": {
   "display_name": "Python 3",
   "language": "python",
   "name": "python3"
  },
  "language_info": {
   "codemirror_mode": {
    "name": "ipython",
    "version": 3
   },
   "file_extension": ".py",
   "mimetype": "text/x-python",
   "name": "python",
   "nbconvert_exporter": "python",
   "pygments_lexer": "ipython3",
   "version": "3.7.6"
  },
  "toc": {
   "base_numbering": 1,
   "nav_menu": {},
   "number_sections": true,
   "sideBar": true,
   "skip_h1_title": false,
   "title_cell": "Table of Contents",
   "title_sidebar": "Contents",
   "toc_cell": false,
   "toc_position": {},
   "toc_section_display": true,
   "toc_window_display": false
  },
  "varInspector": {
   "cols": {
    "lenName": 16,
    "lenType": 16,
    "lenVar": 40
   },
   "kernels_config": {
    "python": {
     "delete_cmd_postfix": "",
     "delete_cmd_prefix": "del ",
     "library": "var_list.py",
     "varRefreshCmd": "print(var_dic_list())"
    },
    "r": {
     "delete_cmd_postfix": ") ",
     "delete_cmd_prefix": "rm(",
     "library": "var_list.r",
     "varRefreshCmd": "cat(var_dic_list()) "
    }
   },
   "types_to_exclude": [
    "module",
    "function",
    "builtin_function_or_method",
    "instance",
    "_Feature"
   ],
   "window_display": false
  }
 },
 "nbformat": 4,
 "nbformat_minor": 4
}
