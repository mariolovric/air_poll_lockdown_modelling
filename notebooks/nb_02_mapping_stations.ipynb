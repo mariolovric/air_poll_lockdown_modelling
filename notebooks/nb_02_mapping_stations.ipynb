{
 "cells": [
  {
   "cell_type": "code",
   "execution_count": 1,
   "metadata": {
    "ExecuteTime": {
     "end_time": "2021-07-19T11:25:00.290251Z",
     "start_time": "2021-07-19T11:24:56.470230Z"
    }
   },
   "outputs": [
    {
     "name": "stdout",
     "output_type": "stream",
     "text": [
      "Collecting folium\n",
      "  Downloading folium-0.12.1-py2.py3-none-any.whl (94 kB)\n",
      "Requirement already satisfied: requests in c:\\users\\mlovric\\anaconda3\\envs\\envphd\\lib\\site-packages (from folium) (2.23.0)\n",
      "Requirement already satisfied: numpy in c:\\users\\mlovric\\anaconda3\\envs\\envphd\\lib\\site-packages (from folium) (1.18.1)\n",
      "Collecting branca>=0.3.0\n",
      "  Downloading branca-0.4.2-py3-none-any.whl (24 kB)\n",
      "Requirement already satisfied: jinja2>=2.9 in c:\\users\\mlovric\\anaconda3\\envs\\envphd\\lib\\site-packages (from folium) (2.11.1)\n",
      "Requirement already satisfied: idna<3,>=2.5 in c:\\users\\mlovric\\anaconda3\\envs\\envphd\\lib\\site-packages (from requests->folium) (2.9)\n",
      "Requirement already satisfied: certifi>=2017.4.17 in c:\\users\\mlovric\\anaconda3\\envs\\envphd\\lib\\site-packages (from requests->folium) (2020.12.5)\n",
      "Requirement already satisfied: chardet<4,>=3.0.2 in c:\\users\\mlovric\\anaconda3\\envs\\envphd\\lib\\site-packages (from requests->folium) (3.0.4)\n",
      "Requirement already satisfied: urllib3!=1.25.0,!=1.25.1,<1.26,>=1.21.1 in c:\\users\\mlovric\\anaconda3\\envs\\envphd\\lib\\site-packages (from requests->folium) (1.25.9)\n",
      "Requirement already satisfied: MarkupSafe>=0.23 in c:\\users\\mlovric\\anaconda3\\envs\\envphd\\lib\\site-packages (from jinja2>=2.9->folium) (1.1.1)\n",
      "Installing collected packages: branca, folium\n",
      "Successfully installed branca-0.4.2 folium-0.12.1\n"
     ]
    }
   ],
   "source": [
    "import sys\n",
    "!{sys.executable} -m pip install folium"
   ]
  },
  {
   "cell_type": "code",
   "execution_count": 2,
   "metadata": {
    "ExecuteTime": {
     "end_time": "2021-07-19T11:25:01.064657Z",
     "start_time": "2021-07-19T11:25:00.329147Z"
    }
   },
   "outputs": [],
   "source": [
    "import folium\n",
    "from folium.features import DivIcon\n",
    "from PIL import Image\n",
    "import pandas as pd"
   ]
  },
  {
   "cell_type": "code",
   "execution_count": 3,
   "metadata": {
    "ExecuteTime": {
     "end_time": "2021-07-19T11:25:03.118841Z",
     "start_time": "2021-07-19T11:25:03.083780Z"
    }
   },
   "outputs": [
    {
     "data": {
      "text/html": [
       "<div>\n",
       "<style scoped>\n",
       "    .dataframe tbody tr th:only-of-type {\n",
       "        vertical-align: middle;\n",
       "    }\n",
       "\n",
       "    .dataframe tbody tr th {\n",
       "        vertical-align: top;\n",
       "    }\n",
       "\n",
       "    .dataframe thead th {\n",
       "        text-align: right;\n",
       "    }\n",
       "</style>\n",
       "<table border=\"1\" class=\"dataframe\">\n",
       "  <thead>\n",
       "    <tr style=\"text-align: right;\">\n",
       "      <th></th>\n",
       "      <th>Y</th>\n",
       "      <th>X</th>\n",
       "      <th>Title</th>\n",
       "    </tr>\n",
       "  </thead>\n",
       "  <tbody>\n",
       "    <tr>\n",
       "      <th>0</th>\n",
       "      <td>15.414872</td>\n",
       "      <td>47.093689</td>\n",
       "      <td>Nord</td>\n",
       "    </tr>\n",
       "    <tr>\n",
       "      <th>1</th>\n",
       "      <td>15.433078</td>\n",
       "      <td>47.041692</td>\n",
       "      <td>Süd</td>\n",
       "    </tr>\n",
       "    <tr>\n",
       "      <th>2</th>\n",
       "      <td>15.403728</td>\n",
       "      <td>47.069506</td>\n",
       "      <td>West</td>\n",
       "    </tr>\n",
       "    <tr>\n",
       "      <th>3</th>\n",
       "      <td>15.416539</td>\n",
       "      <td>47.055617</td>\n",
       "      <td>Don Bosco</td>\n",
       "    </tr>\n",
       "    <tr>\n",
       "      <th>4</th>\n",
       "      <td>15.466634</td>\n",
       "      <td>47.059530</td>\n",
       "      <td>Ost</td>\n",
       "    </tr>\n",
       "  </tbody>\n",
       "</table>\n",
       "</div>"
      ],
      "text/plain": [
       "           Y          X      Title\n",
       "0  15.414872  47.093689       Nord\n",
       "1  15.433078  47.041692        Süd\n",
       "2  15.403728  47.069506       West\n",
       "3  15.416539  47.055617  Don Bosco\n",
       "4  15.466634  47.059530        Ost"
      ]
     },
     "execution_count": 3,
     "metadata": {},
     "output_type": "execute_result"
    }
   ],
   "source": [
    "#{'col1': [1, 2], 'col2': [3, 4]}\n",
    "locations = pd.DataFrame({\n",
    "    'Y': [15.414872, 15.433078, 15.403728, 15.416539, 15.466634], \n",
    "    'X': [47.093689, 47.041692, 47.069506, 47.055617, 47.059530], \n",
    "    'Title': ['Nord', 'Süd', 'West', 'Don Bosco', 'Ost']})\n",
    "locations"
   ]
  },
  {
   "cell_type": "code",
   "execution_count": 4,
   "metadata": {
    "ExecuteTime": {
     "end_time": "2021-07-19T11:25:07.341114Z",
     "start_time": "2021-07-19T11:25:07.304212Z"
    }
   },
   "outputs": [
    {
     "data": {
      "text/html": [
       "<div style=\"width:100%;\"><div style=\"position:relative;width:100%;height:0;padding-bottom:60%;\"><span style=\"color:#565656\">Make this Notebook Trusted to load map: File -> Trust Notebook</span><iframe src=\"about:blank\" style=\"position:absolute;width:100%;height:100%;left:0;top:0;border:none !important;\" data-html=%3C%21DOCTYPE%20html%3E%0A%3Chead%3E%20%20%20%20%0A%20%20%20%20%3Cmeta%20http-equiv%3D%22content-type%22%20content%3D%22text/html%3B%20charset%3DUTF-8%22%20/%3E%0A%20%20%20%20%0A%20%20%20%20%20%20%20%20%3Cscript%3E%0A%20%20%20%20%20%20%20%20%20%20%20%20L_NO_TOUCH%20%3D%20false%3B%0A%20%20%20%20%20%20%20%20%20%20%20%20L_DISABLE_3D%20%3D%20false%3B%0A%20%20%20%20%20%20%20%20%3C/script%3E%0A%20%20%20%20%0A%20%20%20%20%3Cstyle%3Ehtml%2C%20body%20%7Bwidth%3A%20100%25%3Bheight%3A%20100%25%3Bmargin%3A%200%3Bpadding%3A%200%3B%7D%3C/style%3E%0A%20%20%20%20%3Cstyle%3E%23map%20%7Bposition%3Aabsolute%3Btop%3A0%3Bbottom%3A0%3Bright%3A0%3Bleft%3A0%3B%7D%3C/style%3E%0A%20%20%20%20%3Cscript%20src%3D%22https%3A//cdn.jsdelivr.net/npm/leaflet%401.6.0/dist/leaflet.js%22%3E%3C/script%3E%0A%20%20%20%20%3Cscript%20src%3D%22https%3A//code.jquery.com/jquery-1.12.4.min.js%22%3E%3C/script%3E%0A%20%20%20%20%3Cscript%20src%3D%22https%3A//maxcdn.bootstrapcdn.com/bootstrap/3.2.0/js/bootstrap.min.js%22%3E%3C/script%3E%0A%20%20%20%20%3Cscript%20src%3D%22https%3A//cdnjs.cloudflare.com/ajax/libs/Leaflet.awesome-markers/2.0.2/leaflet.awesome-markers.js%22%3E%3C/script%3E%0A%20%20%20%20%3Clink%20rel%3D%22stylesheet%22%20href%3D%22https%3A//cdn.jsdelivr.net/npm/leaflet%401.6.0/dist/leaflet.css%22/%3E%0A%20%20%20%20%3Clink%20rel%3D%22stylesheet%22%20href%3D%22https%3A//maxcdn.bootstrapcdn.com/bootstrap/3.2.0/css/bootstrap.min.css%22/%3E%0A%20%20%20%20%3Clink%20rel%3D%22stylesheet%22%20href%3D%22https%3A//maxcdn.bootstrapcdn.com/bootstrap/3.2.0/css/bootstrap-theme.min.css%22/%3E%0A%20%20%20%20%3Clink%20rel%3D%22stylesheet%22%20href%3D%22https%3A//maxcdn.bootstrapcdn.com/font-awesome/4.6.3/css/font-awesome.min.css%22/%3E%0A%20%20%20%20%3Clink%20rel%3D%22stylesheet%22%20href%3D%22https%3A//cdnjs.cloudflare.com/ajax/libs/Leaflet.awesome-markers/2.0.2/leaflet.awesome-markers.css%22/%3E%0A%20%20%20%20%3Clink%20rel%3D%22stylesheet%22%20href%3D%22https%3A//cdn.jsdelivr.net/gh/python-visualization/folium/folium/templates/leaflet.awesome.rotate.min.css%22/%3E%0A%20%20%20%20%0A%20%20%20%20%20%20%20%20%20%20%20%20%3Cmeta%20name%3D%22viewport%22%20content%3D%22width%3Ddevice-width%2C%0A%20%20%20%20%20%20%20%20%20%20%20%20%20%20%20%20initial-scale%3D1.0%2C%20maximum-scale%3D1.0%2C%20user-scalable%3Dno%22%20/%3E%0A%20%20%20%20%20%20%20%20%20%20%20%20%3Cstyle%3E%0A%20%20%20%20%20%20%20%20%20%20%20%20%20%20%20%20%23map_59ca86616b0e413eb2c8917d3df2fd67%20%7B%0A%20%20%20%20%20%20%20%20%20%20%20%20%20%20%20%20%20%20%20%20position%3A%20relative%3B%0A%20%20%20%20%20%20%20%20%20%20%20%20%20%20%20%20%20%20%20%20width%3A%20100.0%25%3B%0A%20%20%20%20%20%20%20%20%20%20%20%20%20%20%20%20%20%20%20%20height%3A%20100.0%25%3B%0A%20%20%20%20%20%20%20%20%20%20%20%20%20%20%20%20%20%20%20%20left%3A%200.0%25%3B%0A%20%20%20%20%20%20%20%20%20%20%20%20%20%20%20%20%20%20%20%20top%3A%200.0%25%3B%0A%20%20%20%20%20%20%20%20%20%20%20%20%20%20%20%20%7D%0A%20%20%20%20%20%20%20%20%20%20%20%20%3C/style%3E%0A%20%20%20%20%20%20%20%20%0A%3C/head%3E%0A%3Cbody%3E%20%20%20%20%0A%20%20%20%20%0A%20%20%20%20%20%20%20%20%20%20%20%20%3Cdiv%20class%3D%22folium-map%22%20id%3D%22map_59ca86616b0e413eb2c8917d3df2fd67%22%20%3E%3C/div%3E%0A%20%20%20%20%20%20%20%20%0A%3C/body%3E%0A%3Cscript%3E%20%20%20%20%0A%20%20%20%20%0A%20%20%20%20%20%20%20%20%20%20%20%20var%20map_59ca86616b0e413eb2c8917d3df2fd67%20%3D%20L.map%28%0A%20%20%20%20%20%20%20%20%20%20%20%20%20%20%20%20%22map_59ca86616b0e413eb2c8917d3df2fd67%22%2C%0A%20%20%20%20%20%20%20%20%20%20%20%20%20%20%20%20%7B%0A%20%20%20%20%20%20%20%20%20%20%20%20%20%20%20%20%20%20%20%20center%3A%20%5B47.056668%2C%2015.461371%5D%2C%0A%20%20%20%20%20%20%20%20%20%20%20%20%20%20%20%20%20%20%20%20crs%3A%20L.CRS.EPSG3857%2C%0A%20%20%20%20%20%20%20%20%20%20%20%20%20%20%20%20%20%20%20%20zoom%3A%2012%2C%0A%20%20%20%20%20%20%20%20%20%20%20%20%20%20%20%20%20%20%20%20zoomControl%3A%20true%2C%0A%20%20%20%20%20%20%20%20%20%20%20%20%20%20%20%20%20%20%20%20preferCanvas%3A%20false%2C%0A%20%20%20%20%20%20%20%20%20%20%20%20%20%20%20%20%7D%0A%20%20%20%20%20%20%20%20%20%20%20%20%29%3B%0A%0A%20%20%20%20%20%20%20%20%20%20%20%20%0A%0A%20%20%20%20%20%20%20%20%0A%20%20%20%20%0A%20%20%20%20%20%20%20%20%20%20%20%20var%20tile_layer_855a0e5d9add4f43accf32ae12ca6367%20%3D%20L.tileLayer%28%0A%20%20%20%20%20%20%20%20%20%20%20%20%20%20%20%20%22https%3A//cartodb-basemaps-%7Bs%7D.global.ssl.fastly.net/light_all/%7Bz%7D/%7Bx%7D/%7By%7D.png%22%2C%0A%20%20%20%20%20%20%20%20%20%20%20%20%20%20%20%20%7B%22attribution%22%3A%20%22%5Cu0026copy%3B%20%5Cu003ca%20href%3D%5C%22http%3A//www.openstreetmap.org/copyright%5C%22%5Cu003eOpenStreetMap%5Cu003c/a%5Cu003e%20contributors%20%5Cu0026copy%3B%20%5Cu003ca%20href%3D%5C%22http%3A//cartodb.com/attributions%5C%22%5Cu003eCartoDB%5Cu003c/a%5Cu003e%2C%20CartoDB%20%5Cu003ca%20href%20%3D%5C%22http%3A//cartodb.com/attributions%5C%22%5Cu003eattributions%5Cu003c/a%5Cu003e%22%2C%20%22detectRetina%22%3A%20false%2C%20%22maxNativeZoom%22%3A%2018%2C%20%22maxZoom%22%3A%2018%2C%20%22minZoom%22%3A%200%2C%20%22noWrap%22%3A%20false%2C%20%22opacity%22%3A%201%2C%20%22subdomains%22%3A%20%22abc%22%2C%20%22tms%22%3A%20false%7D%0A%20%20%20%20%20%20%20%20%20%20%20%20%29.addTo%28map_59ca86616b0e413eb2c8917d3df2fd67%29%3B%0A%20%20%20%20%20%20%20%20%0A%20%20%20%20%0A%20%20%20%20%20%20%20%20%20%20%20%20var%20circle_f7d94dc5f3fd49d39c5b00d77e8a2e37%20%3D%20L.circle%28%0A%20%20%20%20%20%20%20%20%20%20%20%20%20%20%20%20%5B47.093689%2C%2015.414872%5D%2C%0A%20%20%20%20%20%20%20%20%20%20%20%20%20%20%20%20%7B%22bubblingMouseEvents%22%3A%20true%2C%20%22color%22%3A%20%22%233388ff%22%2C%20%22dashArray%22%3A%20null%2C%20%22dashOffset%22%3A%20null%2C%20%22fill%22%3A%20true%2C%20%22fillColor%22%3A%20%22%233388ff%22%2C%20%22fillOpacity%22%3A%200.2%2C%20%22fillRule%22%3A%20%22evenodd%22%2C%20%22lineCap%22%3A%20%22round%22%2C%20%22lineJoin%22%3A%20%22round%22%2C%20%22opacity%22%3A%201.0%2C%20%22radius%22%3A%20150%2C%20%22stroke%22%3A%20true%2C%20%22weight%22%3A%203%7D%0A%20%20%20%20%20%20%20%20%20%20%20%20%29.addTo%28map_59ca86616b0e413eb2c8917d3df2fd67%29%3B%0A%20%20%20%20%20%20%20%20%0A%20%20%20%20%0A%20%20%20%20%20%20%20%20%20%20%20%20var%20marker_029cb0f6f5324b2e9582befcf8b798d0%20%3D%20L.marker%28%0A%20%20%20%20%20%20%20%20%20%20%20%20%20%20%20%20%5B47.093689%2C%2015.406872000000002%5D%2C%0A%20%20%20%20%20%20%20%20%20%20%20%20%20%20%20%20%7B%7D%0A%20%20%20%20%20%20%20%20%20%20%20%20%29.addTo%28map_59ca86616b0e413eb2c8917d3df2fd67%29%3B%0A%20%20%20%20%20%20%20%20%0A%20%20%20%20%0A%20%20%20%20%20%20%20%20%20%20%20%20var%20div_icon_cb4ce4f1f7d24a41b4d35b71feb91f62%20%3D%20L.divIcon%28%7B%22className%22%3A%20%22empty%22%2C%20%22html%22%3A%20%22%5Cu003cdiv%20style%3D%5C%22font-size%3A%2016pt%3Btext-shadow%3A%20rgb%28255%2C%20255%2C%20255%29%202px%200px%200px%2C%20rgb%28255%2C%20255%2C%20255%29%201.75517px%200.958851px%200px%2C%20rgb%28255%2C%20255%2C%20255%29%201.0806px%201.68294px%200px%2C%20rgb%28255%2C%20255%2C%20255%29%200.141474px%201.99499px%200px%2C%20rgb%28255%2C%20255%2C%20255%29%20-0.832294px%201.81859px%200px%2C%20rgb%28255%2C%20255%2C%20255%29%20-1.60229px%201.19694px%200px%2C%20rgb%28255%2C%20255%2C%20255%29%20-1.97998px%200.28224px%200px%2C%20rgb%28255%2C%20255%2C%20255%29%20-1.87291px%20-0.701566px%200px%2C%20rgb%28255%2C%20255%2C%20255%29%20-1.30729px%20-1.5136px%200px%2C%20rgb%28255%2C%20255%2C%20255%29%20-0.421592px%20-1.95506px%200px%2C%20rgb%28255%2C%20255%2C%20255%29%200.567324px%20-1.91785px%200px%2C%20rgb%28255%2C%20255%2C%20255%29%201.41734px%20-1.41108px%200px%2C%20rgb%28255%2C%20255%2C%20255%29%201.92034px%20-0.558831px%200px%3B%5C%22%5Cu003eNord%5Cu003c/div%5Cu003e%22%2C%20%22iconAnchor%22%3A%20%5B0%2C%200%5D%2C%20%22iconSize%22%3A%20%5B150%2C%2036%5D%7D%29%3B%0A%20%20%20%20%20%20%20%20%20%20%20%20marker_029cb0f6f5324b2e9582befcf8b798d0.setIcon%28div_icon_cb4ce4f1f7d24a41b4d35b71feb91f62%29%3B%0A%20%20%20%20%20%20%20%20%0A%20%20%20%20%0A%20%20%20%20%20%20%20%20%20%20%20%20var%20circle_b3df976bc9e94f8da377dce6280e9c56%20%3D%20L.circle%28%0A%20%20%20%20%20%20%20%20%20%20%20%20%20%20%20%20%5B47.041692%2C%2015.433078%5D%2C%0A%20%20%20%20%20%20%20%20%20%20%20%20%20%20%20%20%7B%22bubblingMouseEvents%22%3A%20true%2C%20%22color%22%3A%20%22%233388ff%22%2C%20%22dashArray%22%3A%20null%2C%20%22dashOffset%22%3A%20null%2C%20%22fill%22%3A%20true%2C%20%22fillColor%22%3A%20%22%233388ff%22%2C%20%22fillOpacity%22%3A%200.2%2C%20%22fillRule%22%3A%20%22evenodd%22%2C%20%22lineCap%22%3A%20%22round%22%2C%20%22lineJoin%22%3A%20%22round%22%2C%20%22opacity%22%3A%201.0%2C%20%22radius%22%3A%20150%2C%20%22stroke%22%3A%20true%2C%20%22weight%22%3A%203%7D%0A%20%20%20%20%20%20%20%20%20%20%20%20%29.addTo%28map_59ca86616b0e413eb2c8917d3df2fd67%29%3B%0A%20%20%20%20%20%20%20%20%0A%20%20%20%20%0A%20%20%20%20%20%20%20%20%20%20%20%20var%20marker_e0b69408f74f4a2099302769a4d7b73a%20%3D%20L.marker%28%0A%20%20%20%20%20%20%20%20%20%20%20%20%20%20%20%20%5B47.041692%2C%2015.425078000000001%5D%2C%0A%20%20%20%20%20%20%20%20%20%20%20%20%20%20%20%20%7B%7D%0A%20%20%20%20%20%20%20%20%20%20%20%20%29.addTo%28map_59ca86616b0e413eb2c8917d3df2fd67%29%3B%0A%20%20%20%20%20%20%20%20%0A%20%20%20%20%0A%20%20%20%20%20%20%20%20%20%20%20%20var%20div_icon_e5b8fc55bbeb46709319357c9b7e2033%20%3D%20L.divIcon%28%7B%22className%22%3A%20%22empty%22%2C%20%22html%22%3A%20%22%5Cu003cdiv%20style%3D%5C%22font-size%3A%2016pt%3Btext-shadow%3A%20rgb%28255%2C%20255%2C%20255%29%202px%200px%200px%2C%20rgb%28255%2C%20255%2C%20255%29%201.75517px%200.958851px%200px%2C%20rgb%28255%2C%20255%2C%20255%29%201.0806px%201.68294px%200px%2C%20rgb%28255%2C%20255%2C%20255%29%200.141474px%201.99499px%200px%2C%20rgb%28255%2C%20255%2C%20255%29%20-0.832294px%201.81859px%200px%2C%20rgb%28255%2C%20255%2C%20255%29%20-1.60229px%201.19694px%200px%2C%20rgb%28255%2C%20255%2C%20255%29%20-1.97998px%200.28224px%200px%2C%20rgb%28255%2C%20255%2C%20255%29%20-1.87291px%20-0.701566px%200px%2C%20rgb%28255%2C%20255%2C%20255%29%20-1.30729px%20-1.5136px%200px%2C%20rgb%28255%2C%20255%2C%20255%29%20-0.421592px%20-1.95506px%200px%2C%20rgb%28255%2C%20255%2C%20255%29%200.567324px%20-1.91785px%200px%2C%20rgb%28255%2C%20255%2C%20255%29%201.41734px%20-1.41108px%200px%2C%20rgb%28255%2C%20255%2C%20255%29%201.92034px%20-0.558831px%200px%3B%5C%22%5Cu003eS%5Cu00fcd%5Cu003c/div%5Cu003e%22%2C%20%22iconAnchor%22%3A%20%5B0%2C%200%5D%2C%20%22iconSize%22%3A%20%5B150%2C%2036%5D%7D%29%3B%0A%20%20%20%20%20%20%20%20%20%20%20%20marker_e0b69408f74f4a2099302769a4d7b73a.setIcon%28div_icon_e5b8fc55bbeb46709319357c9b7e2033%29%3B%0A%20%20%20%20%20%20%20%20%0A%20%20%20%20%0A%20%20%20%20%20%20%20%20%20%20%20%20var%20circle_be4997f2822e4ba3baa5bd1b791a77e9%20%3D%20L.circle%28%0A%20%20%20%20%20%20%20%20%20%20%20%20%20%20%20%20%5B47.069506%2C%2015.403728%5D%2C%0A%20%20%20%20%20%20%20%20%20%20%20%20%20%20%20%20%7B%22bubblingMouseEvents%22%3A%20true%2C%20%22color%22%3A%20%22%233388ff%22%2C%20%22dashArray%22%3A%20null%2C%20%22dashOffset%22%3A%20null%2C%20%22fill%22%3A%20true%2C%20%22fillColor%22%3A%20%22%233388ff%22%2C%20%22fillOpacity%22%3A%200.2%2C%20%22fillRule%22%3A%20%22evenodd%22%2C%20%22lineCap%22%3A%20%22round%22%2C%20%22lineJoin%22%3A%20%22round%22%2C%20%22opacity%22%3A%201.0%2C%20%22radius%22%3A%20150%2C%20%22stroke%22%3A%20true%2C%20%22weight%22%3A%203%7D%0A%20%20%20%20%20%20%20%20%20%20%20%20%29.addTo%28map_59ca86616b0e413eb2c8917d3df2fd67%29%3B%0A%20%20%20%20%20%20%20%20%0A%20%20%20%20%0A%20%20%20%20%20%20%20%20%20%20%20%20var%20marker_250e61769e6e4ce0a005bd35c71c5eaa%20%3D%20L.marker%28%0A%20%20%20%20%20%20%20%20%20%20%20%20%20%20%20%20%5B47.069506%2C%2015.395728%5D%2C%0A%20%20%20%20%20%20%20%20%20%20%20%20%20%20%20%20%7B%7D%0A%20%20%20%20%20%20%20%20%20%20%20%20%29.addTo%28map_59ca86616b0e413eb2c8917d3df2fd67%29%3B%0A%20%20%20%20%20%20%20%20%0A%20%20%20%20%0A%20%20%20%20%20%20%20%20%20%20%20%20var%20div_icon_174347cf7377444197ff15a1b366461a%20%3D%20L.divIcon%28%7B%22className%22%3A%20%22empty%22%2C%20%22html%22%3A%20%22%5Cu003cdiv%20style%3D%5C%22font-size%3A%2016pt%3Btext-shadow%3A%20rgb%28255%2C%20255%2C%20255%29%202px%200px%200px%2C%20rgb%28255%2C%20255%2C%20255%29%201.75517px%200.958851px%200px%2C%20rgb%28255%2C%20255%2C%20255%29%201.0806px%201.68294px%200px%2C%20rgb%28255%2C%20255%2C%20255%29%200.141474px%201.99499px%200px%2C%20rgb%28255%2C%20255%2C%20255%29%20-0.832294px%201.81859px%200px%2C%20rgb%28255%2C%20255%2C%20255%29%20-1.60229px%201.19694px%200px%2C%20rgb%28255%2C%20255%2C%20255%29%20-1.97998px%200.28224px%200px%2C%20rgb%28255%2C%20255%2C%20255%29%20-1.87291px%20-0.701566px%200px%2C%20rgb%28255%2C%20255%2C%20255%29%20-1.30729px%20-1.5136px%200px%2C%20rgb%28255%2C%20255%2C%20255%29%20-0.421592px%20-1.95506px%200px%2C%20rgb%28255%2C%20255%2C%20255%29%200.567324px%20-1.91785px%200px%2C%20rgb%28255%2C%20255%2C%20255%29%201.41734px%20-1.41108px%200px%2C%20rgb%28255%2C%20255%2C%20255%29%201.92034px%20-0.558831px%200px%3B%5C%22%5Cu003eWest%5Cu003c/div%5Cu003e%22%2C%20%22iconAnchor%22%3A%20%5B0%2C%200%5D%2C%20%22iconSize%22%3A%20%5B150%2C%2036%5D%7D%29%3B%0A%20%20%20%20%20%20%20%20%20%20%20%20marker_250e61769e6e4ce0a005bd35c71c5eaa.setIcon%28div_icon_174347cf7377444197ff15a1b366461a%29%3B%0A%20%20%20%20%20%20%20%20%0A%20%20%20%20%0A%20%20%20%20%20%20%20%20%20%20%20%20var%20circle_6019800837e04ba28ad82ec95e7a09a7%20%3D%20L.circle%28%0A%20%20%20%20%20%20%20%20%20%20%20%20%20%20%20%20%5B47.055617%2C%2015.416539%5D%2C%0A%20%20%20%20%20%20%20%20%20%20%20%20%20%20%20%20%7B%22bubblingMouseEvents%22%3A%20true%2C%20%22color%22%3A%20%22%233388ff%22%2C%20%22dashArray%22%3A%20null%2C%20%22dashOffset%22%3A%20null%2C%20%22fill%22%3A%20true%2C%20%22fillColor%22%3A%20%22%233388ff%22%2C%20%22fillOpacity%22%3A%200.2%2C%20%22fillRule%22%3A%20%22evenodd%22%2C%20%22lineCap%22%3A%20%22round%22%2C%20%22lineJoin%22%3A%20%22round%22%2C%20%22opacity%22%3A%201.0%2C%20%22radius%22%3A%20150%2C%20%22stroke%22%3A%20true%2C%20%22weight%22%3A%203%7D%0A%20%20%20%20%20%20%20%20%20%20%20%20%29.addTo%28map_59ca86616b0e413eb2c8917d3df2fd67%29%3B%0A%20%20%20%20%20%20%20%20%0A%20%20%20%20%0A%20%20%20%20%20%20%20%20%20%20%20%20var%20marker_bfcc92b16b844c81bfb328871e338438%20%3D%20L.marker%28%0A%20%20%20%20%20%20%20%20%20%20%20%20%20%20%20%20%5B47.055617%2C%2015.408539000000001%5D%2C%0A%20%20%20%20%20%20%20%20%20%20%20%20%20%20%20%20%7B%7D%0A%20%20%20%20%20%20%20%20%20%20%20%20%29.addTo%28map_59ca86616b0e413eb2c8917d3df2fd67%29%3B%0A%20%20%20%20%20%20%20%20%0A%20%20%20%20%0A%20%20%20%20%20%20%20%20%20%20%20%20var%20div_icon_94dd13d0246c41ebad4f9bda6be00f0d%20%3D%20L.divIcon%28%7B%22className%22%3A%20%22empty%22%2C%20%22html%22%3A%20%22%5Cu003cdiv%20style%3D%5C%22font-size%3A%2016pt%3Btext-shadow%3A%20rgb%28255%2C%20255%2C%20255%29%202px%200px%200px%2C%20rgb%28255%2C%20255%2C%20255%29%201.75517px%200.958851px%200px%2C%20rgb%28255%2C%20255%2C%20255%29%201.0806px%201.68294px%200px%2C%20rgb%28255%2C%20255%2C%20255%29%200.141474px%201.99499px%200px%2C%20rgb%28255%2C%20255%2C%20255%29%20-0.832294px%201.81859px%200px%2C%20rgb%28255%2C%20255%2C%20255%29%20-1.60229px%201.19694px%200px%2C%20rgb%28255%2C%20255%2C%20255%29%20-1.97998px%200.28224px%200px%2C%20rgb%28255%2C%20255%2C%20255%29%20-1.87291px%20-0.701566px%200px%2C%20rgb%28255%2C%20255%2C%20255%29%20-1.30729px%20-1.5136px%200px%2C%20rgb%28255%2C%20255%2C%20255%29%20-0.421592px%20-1.95506px%200px%2C%20rgb%28255%2C%20255%2C%20255%29%200.567324px%20-1.91785px%200px%2C%20rgb%28255%2C%20255%2C%20255%29%201.41734px%20-1.41108px%200px%2C%20rgb%28255%2C%20255%2C%20255%29%201.92034px%20-0.558831px%200px%3B%5C%22%5Cu003eDon%20Bosco%5Cu003c/div%5Cu003e%22%2C%20%22iconAnchor%22%3A%20%5B0%2C%200%5D%2C%20%22iconSize%22%3A%20%5B150%2C%2036%5D%7D%29%3B%0A%20%20%20%20%20%20%20%20%20%20%20%20marker_bfcc92b16b844c81bfb328871e338438.setIcon%28div_icon_94dd13d0246c41ebad4f9bda6be00f0d%29%3B%0A%20%20%20%20%20%20%20%20%0A%20%20%20%20%0A%20%20%20%20%20%20%20%20%20%20%20%20var%20circle_a45025bc84534841ad742928f12647ae%20%3D%20L.circle%28%0A%20%20%20%20%20%20%20%20%20%20%20%20%20%20%20%20%5B47.05953%2C%2015.466634%5D%2C%0A%20%20%20%20%20%20%20%20%20%20%20%20%20%20%20%20%7B%22bubblingMouseEvents%22%3A%20true%2C%20%22color%22%3A%20%22%233388ff%22%2C%20%22dashArray%22%3A%20null%2C%20%22dashOffset%22%3A%20null%2C%20%22fill%22%3A%20true%2C%20%22fillColor%22%3A%20%22%233388ff%22%2C%20%22fillOpacity%22%3A%200.2%2C%20%22fillRule%22%3A%20%22evenodd%22%2C%20%22lineCap%22%3A%20%22round%22%2C%20%22lineJoin%22%3A%20%22round%22%2C%20%22opacity%22%3A%201.0%2C%20%22radius%22%3A%20150%2C%20%22stroke%22%3A%20true%2C%20%22weight%22%3A%203%7D%0A%20%20%20%20%20%20%20%20%20%20%20%20%29.addTo%28map_59ca86616b0e413eb2c8917d3df2fd67%29%3B%0A%20%20%20%20%20%20%20%20%0A%20%20%20%20%0A%20%20%20%20%20%20%20%20%20%20%20%20var%20marker_de038c21ef5648ccafe45eeb62eb4e7d%20%3D%20L.marker%28%0A%20%20%20%20%20%20%20%20%20%20%20%20%20%20%20%20%5B47.05953%2C%2015.458634000000002%5D%2C%0A%20%20%20%20%20%20%20%20%20%20%20%20%20%20%20%20%7B%7D%0A%20%20%20%20%20%20%20%20%20%20%20%20%29.addTo%28map_59ca86616b0e413eb2c8917d3df2fd67%29%3B%0A%20%20%20%20%20%20%20%20%0A%20%20%20%20%0A%20%20%20%20%20%20%20%20%20%20%20%20var%20div_icon_4502bfc61d5d4c338b652ec5f0130043%20%3D%20L.divIcon%28%7B%22className%22%3A%20%22empty%22%2C%20%22html%22%3A%20%22%5Cu003cdiv%20style%3D%5C%22font-size%3A%2016pt%3Btext-shadow%3A%20rgb%28255%2C%20255%2C%20255%29%202px%200px%200px%2C%20rgb%28255%2C%20255%2C%20255%29%201.75517px%200.958851px%200px%2C%20rgb%28255%2C%20255%2C%20255%29%201.0806px%201.68294px%200px%2C%20rgb%28255%2C%20255%2C%20255%29%200.141474px%201.99499px%200px%2C%20rgb%28255%2C%20255%2C%20255%29%20-0.832294px%201.81859px%200px%2C%20rgb%28255%2C%20255%2C%20255%29%20-1.60229px%201.19694px%200px%2C%20rgb%28255%2C%20255%2C%20255%29%20-1.97998px%200.28224px%200px%2C%20rgb%28255%2C%20255%2C%20255%29%20-1.87291px%20-0.701566px%200px%2C%20rgb%28255%2C%20255%2C%20255%29%20-1.30729px%20-1.5136px%200px%2C%20rgb%28255%2C%20255%2C%20255%29%20-0.421592px%20-1.95506px%200px%2C%20rgb%28255%2C%20255%2C%20255%29%200.567324px%20-1.91785px%200px%2C%20rgb%28255%2C%20255%2C%20255%29%201.41734px%20-1.41108px%200px%2C%20rgb%28255%2C%20255%2C%20255%29%201.92034px%20-0.558831px%200px%3B%5C%22%5Cu003eOst%5Cu003c/div%5Cu003e%22%2C%20%22iconAnchor%22%3A%20%5B0%2C%200%5D%2C%20%22iconSize%22%3A%20%5B150%2C%2036%5D%7D%29%3B%0A%20%20%20%20%20%20%20%20%20%20%20%20marker_de038c21ef5648ccafe45eeb62eb4e7d.setIcon%28div_icon_4502bfc61d5d4c338b652ec5f0130043%29%3B%0A%20%20%20%20%20%20%20%20%0A%3C/script%3E onload=\"this.contentDocument.open();this.contentDocument.write(    decodeURIComponent(this.getAttribute('data-html')));this.contentDocument.close();\" allowfullscreen webkitallowfullscreen mozallowfullscreen></iframe></div></div>"
      ],
      "text/plain": [
       "<folium.folium.Map at 0x2d2dea19f48>"
      ]
     },
     "execution_count": 4,
     "metadata": {},
     "output_type": "execute_result"
    }
   ],
   "source": [
    "m = folium.Map(\n",
    "    location=[47.056668, 15.461371],\n",
    "    zoom_start=12,\n",
    "    tiles='CartoDB positron'\n",
    ") # 47.076668, 15.421371 # tiles='Stamen Terrain' Stamen Toner, Stamen Watercolor, CartoDB positron, OpenStreetMap\n",
    "\n",
    "for index, location in locations.iterrows():\n",
    "    folium.Circle([location['X'], location['Y']], 150, fill=True).add_to(m)\n",
    "    folium.map.Marker(\n",
    "        [location['X'], location['Y'] - 0.008],\n",
    "        icon=DivIcon(\n",
    "            icon_size=(150,36),\n",
    "            icon_anchor=(0,0),\n",
    "            html='<div style=\"font-size: 16pt;text-shadow: rgb(255, 255, 255) 2px 0px 0px, rgb(255, 255, 255) 1.75517px 0.958851px 0px, rgb(255, 255, 255) 1.0806px 1.68294px 0px, rgb(255, 255, 255) 0.141474px 1.99499px 0px, rgb(255, 255, 255) -0.832294px 1.81859px 0px, rgb(255, 255, 255) -1.60229px 1.19694px 0px, rgb(255, 255, 255) -1.97998px 0.28224px 0px, rgb(255, 255, 255) -1.87291px -0.701566px 0px, rgb(255, 255, 255) -1.30729px -1.5136px 0px, rgb(255, 255, 255) -0.421592px -1.95506px 0px, rgb(255, 255, 255) 0.567324px -1.91785px 0px, rgb(255, 255, 255) 1.41734px -1.41108px 0px, rgb(255, 255, 255) 1.92034px -0.558831px 0px;\">%s</div>' % str(location['Title']),\n",
    "            )\n",
    "        ).add_to(m)\n",
    "\n",
    "# img_data = m._to_png(5)\n",
    "# img = Image.open(io.BytesIO(img_data))\n",
    "# img.save('../results/graz_stations_map.png')\n",
    "m"
   ]
  },
  {
   "cell_type": "code",
   "execution_count": null,
   "metadata": {},
   "outputs": [],
   "source": []
  }
 ],
 "metadata": {
  "kernelspec": {
   "display_name": "Python 3",
   "language": "python",
   "name": "python3"
  },
  "language_info": {
   "codemirror_mode": {
    "name": "ipython",
    "version": 3
   },
   "file_extension": ".py",
   "mimetype": "text/x-python",
   "name": "python",
   "nbconvert_exporter": "python",
   "pygments_lexer": "ipython3",
   "version": "3.7.6"
  },
  "toc": {
   "base_numbering": 1,
   "nav_menu": {},
   "number_sections": true,
   "sideBar": true,
   "skip_h1_title": false,
   "title_cell": "Table of Contents",
   "title_sidebar": "Contents",
   "toc_cell": false,
   "toc_position": {},
   "toc_section_display": true,
   "toc_window_display": false
  },
  "varInspector": {
   "cols": {
    "lenName": 16,
    "lenType": 16,
    "lenVar": 40
   },
   "kernels_config": {
    "python": {
     "delete_cmd_postfix": "",
     "delete_cmd_prefix": "del ",
     "library": "var_list.py",
     "varRefreshCmd": "print(var_dic_list())"
    },
    "r": {
     "delete_cmd_postfix": ") ",
     "delete_cmd_prefix": "rm(",
     "library": "var_list.r",
     "varRefreshCmd": "cat(var_dic_list()) "
    }
   },
   "types_to_exclude": [
    "module",
    "function",
    "builtin_function_or_method",
    "instance",
    "_Feature"
   ],
   "window_display": false
  }
 },
 "nbformat": 4,
 "nbformat_minor": 4
}
