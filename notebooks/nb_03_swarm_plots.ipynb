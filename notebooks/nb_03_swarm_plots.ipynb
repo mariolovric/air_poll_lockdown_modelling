{
 "cells": [
  {
   "cell_type": "code",
   "execution_count": 1,
   "metadata": {
    "ExecuteTime": {
     "end_time": "2021-07-19T11:27:58.454147Z",
     "start_time": "2021-07-19T11:27:57.395056Z"
    }
   },
   "outputs": [],
   "source": [
    "import pandas as pd\n",
    "import matplotlib.pyplot as plt\n",
    "%matplotlib inline\n",
    "from sklearn.decomposition import PCA\n",
    "from sklearn.preprocessing import MinMaxScaler, StandardScaler\n",
    "import pandas as pd\n",
    "import numpy as np\n",
    "import seaborn as sns\n",
    "gases = ['D_NO', 'D_NO2', 'D_PM10', 'N_NO', 'N_NO2', 'N_Ox', 'N_O3', 'N_PM10',\n",
    "         'O_NO', 'O_NO2', 'O_PM10', 'S_NO', 'S_NO2', 'S_Ox', 'S_O3', 'S_PM10',\n",
    "          'W_NO', 'W_NO2', 'W_PM10']"
   ]
  },
  {
   "cell_type": "code",
   "execution_count": 2,
   "metadata": {
    "ExecuteTime": {
     "end_time": "2021-07-19T11:27:58.532915Z",
     "start_time": "2021-07-19T11:27:58.474001Z"
    }
   },
   "outputs": [],
   "source": [
    "graz_all = pd.read_csv('../data/graz_all_p3.csv', index_col=0)\n",
    "graz_all.index = pd.DatetimeIndex(graz_all.index)\n",
    "dymo = graz_all.index.to_series().apply(lambda x: x.strftime('%m-%d'))"
   ]
  },
  {
   "cell_type": "code",
   "execution_count": 3,
   "metadata": {
    "ExecuteTime": {
     "end_time": "2021-07-19T11:28:01.600982Z",
     "start_time": "2021-07-19T11:28:01.420834Z"
    }
   },
   "outputs": [
    {
     "data": {
      "text/html": [
       "<div>\n",
       "<style scoped>\n",
       "    .dataframe tbody tr th:only-of-type {\n",
       "        vertical-align: middle;\n",
       "    }\n",
       "\n",
       "    .dataframe tbody tr th {\n",
       "        vertical-align: top;\n",
       "    }\n",
       "\n",
       "    .dataframe thead th {\n",
       "        text-align: right;\n",
       "    }\n",
       "</style>\n",
       "<table border=\"1\" class=\"dataframe\">\n",
       "  <thead>\n",
       "    <tr style=\"text-align: right;\">\n",
       "      <th></th>\n",
       "      <th>Concentration</th>\n",
       "      <th>Pollutant</th>\n",
       "      <th>Type</th>\n",
       "    </tr>\n",
       "  </thead>\n",
       "  <tbody>\n",
       "    <tr>\n",
       "      <th>0</th>\n",
       "      <td>80.518212</td>\n",
       "      <td>S_Ox</td>\n",
       "      <td>MEAN</td>\n",
       "    </tr>\n",
       "    <tr>\n",
       "      <th>1</th>\n",
       "      <td>78.118577</td>\n",
       "      <td>S_Ox</td>\n",
       "      <td>MEAN</td>\n",
       "    </tr>\n",
       "    <tr>\n",
       "      <th>2</th>\n",
       "      <td>68.669162</td>\n",
       "      <td>S_Ox</td>\n",
       "      <td>MEAN</td>\n",
       "    </tr>\n",
       "    <tr>\n",
       "      <th>3</th>\n",
       "      <td>74.327676</td>\n",
       "      <td>S_Ox</td>\n",
       "      <td>MEAN</td>\n",
       "    </tr>\n",
       "    <tr>\n",
       "      <th>4</th>\n",
       "      <td>81.498823</td>\n",
       "      <td>S_Ox</td>\n",
       "      <td>MEAN</td>\n",
       "    </tr>\n",
       "    <tr>\n",
       "      <th>5</th>\n",
       "      <td>81.355594</td>\n",
       "      <td>S_Ox</td>\n",
       "      <td>MEAN</td>\n",
       "    </tr>\n",
       "    <tr>\n",
       "      <th>6</th>\n",
       "      <td>87.658728</td>\n",
       "      <td>S_Ox</td>\n",
       "      <td>MEAN</td>\n",
       "    </tr>\n",
       "    <tr>\n",
       "      <th>7</th>\n",
       "      <td>75.000000</td>\n",
       "      <td>S_Ox</td>\n",
       "      <td>MEAN-HLD-TRUE</td>\n",
       "    </tr>\n",
       "    <tr>\n",
       "      <th>8</th>\n",
       "      <td>76.000000</td>\n",
       "      <td>S_Ox</td>\n",
       "      <td>MEAN-HLD-PRED</td>\n",
       "    </tr>\n",
       "  </tbody>\n",
       "</table>\n",
       "</div>"
      ],
      "text/plain": [
       "   Concentration Pollutant           Type\n",
       "0      80.518212      S_Ox           MEAN\n",
       "1      78.118577      S_Ox           MEAN\n",
       "2      68.669162      S_Ox           MEAN\n",
       "3      74.327676      S_Ox           MEAN\n",
       "4      81.498823      S_Ox           MEAN\n",
       "5      81.355594      S_Ox           MEAN\n",
       "6      87.658728      S_Ox           MEAN\n",
       "7      75.000000      S_Ox  MEAN-HLD-TRUE\n",
       "8      76.000000      S_Ox  MEAN-HLD-PRED"
      ]
     },
     "metadata": {},
     "output_type": "display_data"
    },
    {
     "data": {
      "image/png": "[encoded data removed]",
      "text/plain": [
       "<Figure size 432x288 with 1 Axes>"
      ]
     },
     "metadata": {
      "needs_background": "light"
     },
     "output_type": "display_data"
    }
   ],
   "source": [
    "# means = {\n",
    "#     'historical' : graz_all[j][(dymo > '03-20')&(dymo < '04-14')].groupby([graz_all.year]).median().values,\n",
    "#     'mean-hld-true': 80,\n",
    "#     'mean-hld-pred': 70\n",
    "# }\n",
    "j = 'N_Ox'\n",
    "dfff = pd.DataFrame({\n",
    "    'Concentration': graz_all[j][(dymo > '03-20')&(dymo < '04-14')].groupby([graz_all.year]).median().values, \n",
    "    'Pollutant': 'S_Ox', \n",
    "    'Type': 'MEAN'})\n",
    "\n",
    "predicted_df = pd.DataFrame({\n",
    "    'Concentration': [75,76], \n",
    "    'Pollutant': 'S_Ox', \n",
    "    'Type': ['MEAN-HLD-TRUE', 'MEAN-HLD-PRED']})\n",
    "\n",
    "dfff = dfff.append(predicted_df, ignore_index = True) \n",
    "\n",
    "ax = sns.swarmplot(x='Pollutant', y='Concentration', data=dfff, hue='Type', orient='v')\n",
    "\n",
    "display(dfff)"
   ]
  },
  {
   "cell_type": "code",
   "execution_count": 4,
   "metadata": {
    "ExecuteTime": {
     "end_time": "2021-07-19T11:28:04.201186Z",
     "start_time": "2021-07-19T11:28:04.188188Z"
    }
   },
   "outputs": [],
   "source": [
    "# samo da stane sve u jedan red\n",
    "# vidi tablicu ispod, moze i iz nje"
   ]
  },
  {
   "cell_type": "code",
   "execution_count": 5,
   "metadata": {
    "ExecuteTime": {
     "end_time": "2021-07-19T11:28:04.465078Z",
     "start_time": "2021-07-19T11:28:04.422193Z"
    }
   },
   "outputs": [
    {
     "data": {
      "text/html": [
       "<div>\n",
       "<style scoped>\n",
       "    .dataframe tbody tr th:only-of-type {\n",
       "        vertical-align: middle;\n",
       "    }\n",
       "\n",
       "    .dataframe tbody tr th {\n",
       "        vertical-align: top;\n",
       "    }\n",
       "\n",
       "    .dataframe thead th {\n",
       "        text-align: right;\n",
       "    }\n",
       "</style>\n",
       "<table border=\"1\" class=\"dataframe\">\n",
       "  <thead>\n",
       "    <tr style=\"text-align: right;\">\n",
       "      <th></th>\n",
       "      <th>D_NO</th>\n",
       "      <th>D_NO2</th>\n",
       "      <th>D_PM10</th>\n",
       "      <th>N_NO</th>\n",
       "      <th>N_NO2</th>\n",
       "      <th>N_Ox</th>\n",
       "      <th>N_O3</th>\n",
       "      <th>N_PM10</th>\n",
       "      <th>O_NO</th>\n",
       "      <th>O_NO2</th>\n",
       "      <th>O_PM10</th>\n",
       "      <th>S_NO</th>\n",
       "      <th>S_NO2</th>\n",
       "      <th>S_Ox</th>\n",
       "      <th>S_O3</th>\n",
       "      <th>S_PM10</th>\n",
       "      <th>W_NO</th>\n",
       "      <th>W_NO2</th>\n",
       "      <th>W_PM10</th>\n",
       "    </tr>\n",
       "    <tr>\n",
       "      <th>year</th>\n",
       "      <th></th>\n",
       "      <th></th>\n",
       "      <th></th>\n",
       "      <th></th>\n",
       "      <th></th>\n",
       "      <th></th>\n",
       "      <th></th>\n",
       "      <th></th>\n",
       "      <th></th>\n",
       "      <th></th>\n",
       "      <th></th>\n",
       "      <th></th>\n",
       "      <th></th>\n",
       "      <th></th>\n",
       "      <th></th>\n",
       "      <th></th>\n",
       "      <th></th>\n",
       "      <th></th>\n",
       "      <th></th>\n",
       "    </tr>\n",
       "  </thead>\n",
       "  <tbody>\n",
       "    <tr>\n",
       "      <th>2014</th>\n",
       "      <td>38.7</td>\n",
       "      <td>50.8</td>\n",
       "      <td>32.7</td>\n",
       "      <td>1.7</td>\n",
       "      <td>23.2</td>\n",
       "      <td>80.5</td>\n",
       "      <td>56.0</td>\n",
       "      <td>23.0</td>\n",
       "      <td>14.6</td>\n",
       "      <td>31.2</td>\n",
       "      <td>32.1</td>\n",
       "      <td>11.7</td>\n",
       "      <td>34.7</td>\n",
       "      <td>81.0</td>\n",
       "      <td>44.9</td>\n",
       "      <td>32.8</td>\n",
       "      <td>9.5</td>\n",
       "      <td>30.8</td>\n",
       "      <td>28.8</td>\n",
       "    </tr>\n",
       "    <tr>\n",
       "      <th>2015</th>\n",
       "      <td>28.0</td>\n",
       "      <td>36.6</td>\n",
       "      <td>22.3</td>\n",
       "      <td>1.4</td>\n",
       "      <td>17.7</td>\n",
       "      <td>78.1</td>\n",
       "      <td>62.8</td>\n",
       "      <td>19.4</td>\n",
       "      <td>6.7</td>\n",
       "      <td>21.8</td>\n",
       "      <td>20.0</td>\n",
       "      <td>8.6</td>\n",
       "      <td>27.0</td>\n",
       "      <td>85.4</td>\n",
       "      <td>51.8</td>\n",
       "      <td>23.1</td>\n",
       "      <td>3.1</td>\n",
       "      <td>24.3</td>\n",
       "      <td>16.8</td>\n",
       "    </tr>\n",
       "    <tr>\n",
       "      <th>2016</th>\n",
       "      <td>39.6</td>\n",
       "      <td>40.6</td>\n",
       "      <td>27.8</td>\n",
       "      <td>2.7</td>\n",
       "      <td>17.6</td>\n",
       "      <td>68.7</td>\n",
       "      <td>52.7</td>\n",
       "      <td>19.8</td>\n",
       "      <td>13.5</td>\n",
       "      <td>26.0</td>\n",
       "      <td>23.9</td>\n",
       "      <td>10.0</td>\n",
       "      <td>26.3</td>\n",
       "      <td>74.8</td>\n",
       "      <td>48.6</td>\n",
       "      <td>22.4</td>\n",
       "      <td>4.1</td>\n",
       "      <td>21.3</td>\n",
       "      <td>19.9</td>\n",
       "    </tr>\n",
       "    <tr>\n",
       "      <th>2017</th>\n",
       "      <td>42.6</td>\n",
       "      <td>46.6</td>\n",
       "      <td>28.9</td>\n",
       "      <td>4.5</td>\n",
       "      <td>21.1</td>\n",
       "      <td>74.3</td>\n",
       "      <td>48.8</td>\n",
       "      <td>23.4</td>\n",
       "      <td>16.4</td>\n",
       "      <td>29.3</td>\n",
       "      <td>30.5</td>\n",
       "      <td>16.2</td>\n",
       "      <td>31.6</td>\n",
       "      <td>79.0</td>\n",
       "      <td>46.0</td>\n",
       "      <td>29.9</td>\n",
       "      <td>7.9</td>\n",
       "      <td>28.8</td>\n",
       "      <td>29.1</td>\n",
       "    </tr>\n",
       "    <tr>\n",
       "      <th>2018</th>\n",
       "      <td>29.7</td>\n",
       "      <td>43.8</td>\n",
       "      <td>25.3</td>\n",
       "      <td>3.2</td>\n",
       "      <td>22.2</td>\n",
       "      <td>81.5</td>\n",
       "      <td>60.4</td>\n",
       "      <td>25.5</td>\n",
       "      <td>8.0</td>\n",
       "      <td>31.4</td>\n",
       "      <td>29.6</td>\n",
       "      <td>9.7</td>\n",
       "      <td>25.8</td>\n",
       "      <td>79.2</td>\n",
       "      <td>53.9</td>\n",
       "      <td>24.7</td>\n",
       "      <td>3.8</td>\n",
       "      <td>25.2</td>\n",
       "      <td>23.5</td>\n",
       "    </tr>\n",
       "    <tr>\n",
       "      <th>2019</th>\n",
       "      <td>29.0</td>\n",
       "      <td>48.7</td>\n",
       "      <td>24.4</td>\n",
       "      <td>1.6</td>\n",
       "      <td>19.8</td>\n",
       "      <td>81.4</td>\n",
       "      <td>60.7</td>\n",
       "      <td>19.7</td>\n",
       "      <td>7.9</td>\n",
       "      <td>26.0</td>\n",
       "      <td>28.3</td>\n",
       "      <td>12.2</td>\n",
       "      <td>34.6</td>\n",
       "      <td>82.7</td>\n",
       "      <td>48.5</td>\n",
       "      <td>25.7</td>\n",
       "      <td>4.1</td>\n",
       "      <td>29.3</td>\n",
       "      <td>22.9</td>\n",
       "    </tr>\n",
       "    <tr>\n",
       "      <th>2020</th>\n",
       "      <td>15.1</td>\n",
       "      <td>28.5</td>\n",
       "      <td>21.1</td>\n",
       "      <td>0.9</td>\n",
       "      <td>12.7</td>\n",
       "      <td>87.7</td>\n",
       "      <td>76.3</td>\n",
       "      <td>21.8</td>\n",
       "      <td>2.9</td>\n",
       "      <td>11.6</td>\n",
       "      <td>23.4</td>\n",
       "      <td>7.7</td>\n",
       "      <td>19.0</td>\n",
       "      <td>82.0</td>\n",
       "      <td>63.7</td>\n",
       "      <td>23.0</td>\n",
       "      <td>2.3</td>\n",
       "      <td>20.3</td>\n",
       "      <td>22.4</td>\n",
       "    </tr>\n",
       "  </tbody>\n",
       "</table>\n",
       "</div>"
      ],
      "text/plain": [
       "      D_NO  D_NO2  D_PM10  N_NO  N_NO2  N_Ox  N_O3  N_PM10  O_NO  O_NO2  \\\n",
       "year                                                                      \n",
       "2014  38.7   50.8    32.7   1.7   23.2  80.5  56.0    23.0  14.6   31.2   \n",
       "2015  28.0   36.6    22.3   1.4   17.7  78.1  62.8    19.4   6.7   21.8   \n",
       "2016  39.6   40.6    27.8   2.7   17.6  68.7  52.7    19.8  13.5   26.0   \n",
       "2017  42.6   46.6    28.9   4.5   21.1  74.3  48.8    23.4  16.4   29.3   \n",
       "2018  29.7   43.8    25.3   3.2   22.2  81.5  60.4    25.5   8.0   31.4   \n",
       "2019  29.0   48.7    24.4   1.6   19.8  81.4  60.7    19.7   7.9   26.0   \n",
       "2020  15.1   28.5    21.1   0.9   12.7  87.7  76.3    21.8   2.9   11.6   \n",
       "\n",
       "      O_PM10  S_NO  S_NO2  S_Ox  S_O3  S_PM10  W_NO  W_NO2  W_PM10  \n",
       "year                                                                \n",
       "2014    32.1  11.7   34.7  81.0  44.9    32.8   9.5   30.8    28.8  \n",
       "2015    20.0   8.6   27.0  85.4  51.8    23.1   3.1   24.3    16.8  \n",
       "2016    23.9  10.0   26.3  74.8  48.6    22.4   4.1   21.3    19.9  \n",
       "2017    30.5  16.2   31.6  79.0  46.0    29.9   7.9   28.8    29.1  \n",
       "2018    29.6   9.7   25.8  79.2  53.9    24.7   3.8   25.2    23.5  \n",
       "2019    28.3  12.2   34.6  82.7  48.5    25.7   4.1   29.3    22.9  \n",
       "2020    23.4   7.7   19.0  82.0  63.7    23.0   2.3   20.3    22.4  "
      ]
     },
     "execution_count": 5,
     "metadata": {},
     "output_type": "execute_result"
    }
   ],
   "source": [
    "histmedian = graz_all[gases][(dymo > '03-20')&(dymo < '04-14')].groupby([graz_all.year]).median()\n",
    "histmedian.round(1)"
   ]
  },
  {
   "cell_type": "code",
   "execution_count": 6,
   "metadata": {
    "ExecuteTime": {
     "end_time": "2021-07-19T11:28:06.915118Z",
     "start_time": "2021-07-19T11:28:06.894208Z"
    }
   },
   "outputs": [
    {
     "data": {
      "text/plain": [
       "Index(['D_NO_PRED', 'D_NO_TRUE', 'D_NO2_PRED', 'D_NO2_TRUE', 'D_PM10_PRED',\n",
       "       'D_PM10_TRUE', 'N_NO_PRED', 'N_NO_TRUE', 'N_NO2_PRED', 'N_NO2_TRUE',\n",
       "       'N_Ox_PRED', 'N_Ox_TRUE', 'N_O3_PRED', 'N_O3_TRUE', 'N_PM10_PRED',\n",
       "       'N_PM10_TRUE', 'O_NO_PRED', 'O_NO_TRUE', 'O_NO2_PRED', 'O_NO2_TRUE',\n",
       "       'O_PM10_PRED', 'O_PM10_TRUE', 'S_NO_PRED', 'S_NO_TRUE', 'S_NO2_PRED',\n",
       "       'S_NO2_TRUE', 'S_Ox_PRED', 'S_Ox_TRUE', 'S_O3_PRED', 'S_O3_TRUE',\n",
       "       'S_PM10_PRED', 'S_PM10_TRUE', 'W_NO_PRED', 'W_NO_TRUE', 'W_NO2_PRED',\n",
       "       'W_NO2_TRUE', 'W_PM10_PRED', 'W_PM10_TRUE'],\n",
       "      dtype='object')"
      ]
     },
     "metadata": {},
     "output_type": "display_data"
    }
   ],
   "source": [
    "best_models = pd.read_csv('../results/all_results.csv', index_col=0)\n",
    "best_models.index = pd.DatetimeIndex(best_models.index)\n",
    "display(best_models.columns)\n",
    "\n",
    "# D_NO = N_NO = W_NO = S_NO = O_NO = best_models['no_PRED'][(best_models.index > '2020-03-20')&(best_models.index < '2020-04-14')].median()\n",
    "# D_NO2 = N_NO2 = W_NO2 = S_NO2 = O_NO2 = best_models['no2_PRED'][(best_models.index > '2020-03-20')&(best_models.index < '2020-04-14')].median()\n",
    "# D_PM10 = N_PM10 = W_PM10 = S_PM10 = O_PM10 = best_models['pm10_PRED'][(best_models.index > '2020-03-20')&(best_models.index < '2020-04-14')].median()\n",
    "# N_O3 = S_O3 = best_models['o3_PRED'][(best_models.index > '2020-03-20')&(best_models.index < '2020-04-14')].median()\n",
    "# N_Ox = S_Ox = np.nan"
   ]
  },
  {
   "cell_type": "code",
   "execution_count": 7,
   "metadata": {
    "ExecuteTime": {
     "end_time": "2021-07-19T11:28:12.204825Z",
     "start_time": "2021-07-19T11:28:09.392186Z"
    }
   },
   "outputs": [
    {
     "name": "stderr",
     "output_type": "stream",
     "text": [
      "C:\\Users\\mlovric\\Anaconda3\\envs\\envphd\\lib\\site-packages\\seaborn\\axisgrid.py:861: UserWarning: Tight layout not applied. tight_layout cannot make axes width small enough to accommodate all axes decorations\n",
      "  self.fig.tight_layout()\n"
     ]
    },
    {
     "data": {
      "image/png": "[encoded data removed]",
      "text/plain": [
       "<Figure size 864x576 with 19 Axes>"
      ]
     },
     "metadata": {},
     "output_type": "display_data"
    }
   ],
   "source": [
    "swarmplot_data = pd.DataFrame({'Concentration': [],'Pollutant': [], 'Type': []})\n",
    "for gas in gases:\n",
    "\n",
    "    swarmplot_data = swarmplot_data.append(pd.DataFrame({\n",
    "        'Concentration': graz_all[gas][(dymo > '03-20')&(dymo < '04-14')].groupby([graz_all.year]).median().values, \n",
    "        'Pollutant': gas, \n",
    "        'Type': 'MEAN'}), ignore_index=True)\n",
    "\n",
    "    swarmplot_data = swarmplot_data.append(pd.DataFrame({\n",
    "                    'Concentration': graz_all[gas][(graz_all.index > '2020-03-20')&(graz_all.index < '2020-04-14')].groupby([graz_all.year]).median().values, \n",
    "                    'Pollutant': gas, \n",
    "                    'Type': 'MEAN-HLD-TRUE'}), ignore_index=True)\n",
    "\n",
    "    swarmplot_data = swarmplot_data.append(pd.DataFrame({\n",
    "        'Concentration': [best_models['{}_PRED'.format(gas)][(best_models.index > '2020-03-20')&(best_models.index < '2020-04-14')].median()], \n",
    "        'Pollutant': gas, \n",
    "        'Type': 'MEAN-HLD-PRED'}), ignore_index=True)\n",
    "\n",
    "swarmplot_data['Category'] = 'Category'\n",
    "\n",
    "# sns.set_style(\"whitegrid\"),\n",
    "sns.set(style='whitegrid', font_scale=1.3)\n",
    "# markers = {\"MEAN\": \"s\", \"MEAN-HLD-PRED\": \"X\", \"MEAN-HLD-TRUE\": '<'}\n",
    "\n",
    "g = sns.catplot(x='Category', y='Concentration', hue='Type', col=\"Pollutant\", \n",
    "            data=swarmplot_data, kind=\"swarm\", height=4, aspect=.3, col_wrap=10, legend=False, s=8, dodge=False);\n",
    "\n",
    "g.set(xlabel = '')\n",
    "g.set_xticklabels(ax.get_xticklabels(), fontsize=0)\n",
    "# g.set_yticklabels(ax.get_yticklabels(), fontsize=12)\n",
    "# plt.tight_layout()\n",
    "g.set_titles(\"{col_name}\")\n",
    "g.set_ylabels(\"Concentration - [mju]g/m³\")\n",
    "  \n",
    "\n",
    "plt.legend(bbox_to_anchor=(1.1, .9), loc=2, borderaxespad=0.) #, fontsize=12\n",
    "plt.subplots_adjust(hspace = 0.2, wspace = 0.1)\n",
    "\n",
    "#g.savefig('../results/201x-mean-swarmplot.tiff')\n",
    "\n",
    "\n"
   ]
  }
 ],
 "metadata": {
  "kernelspec": {
   "display_name": "Python 3",
   "language": "python",
   "name": "python3"
  },
  "language_info": {
   "codemirror_mode": {
    "name": "ipython",
    "version": 3
   },
   "file_extension": ".py",
   "mimetype": "text/x-python",
   "name": "python",
   "nbconvert_exporter": "python",
   "pygments_lexer": "ipython3",
   "version": "3.7.6"
  },
  "toc": {
   "base_numbering": 1,
   "nav_menu": {},
   "number_sections": true,
   "sideBar": true,
   "skip_h1_title": false,
   "title_cell": "Table of Contents",
   "title_sidebar": "Contents",
   "toc_cell": false,
   "toc_position": {},
   "toc_section_display": true,
   "toc_window_display": false
  },
  "varInspector": {
   "cols": {
    "lenName": 16,
    "lenType": 16,
    "lenVar": 40
   },
   "kernels_config": {
    "python": {
     "delete_cmd_postfix": "",
     "delete_cmd_prefix": "del ",
     "library": "var_list.py",
     "varRefreshCmd": "print(var_dic_list())"
    },
    "r": {
     "delete_cmd_postfix": ") ",
     "delete_cmd_prefix": "rm(",
     "library": "var_list.r",
     "varRefreshCmd": "cat(var_dic_list()) "
    }
   },
   "types_to_exclude": [
    "module",
    "function",
    "builtin_function_or_method",
    "instance",
    "_Feature"
   ],
   "window_display": false
  }
 },
 "nbformat": 4,
 "nbformat_minor": 4
}
